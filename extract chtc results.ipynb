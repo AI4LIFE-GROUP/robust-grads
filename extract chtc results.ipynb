{
 "cells": [
  {
   "cell_type": "code",
   "execution_count": 1,
   "id": "138eb8d5",
   "metadata": {},
   "outputs": [],
   "source": [
    "import os\n",
    "import numpy as np\n",
    "import pandas as pd\n",
    "import matplotlib.pyplot as plt"
   ]
  },
  {
   "cell_type": "code",
   "execution_count": 2,
   "id": "0bc5ef11",
   "metadata": {},
   "outputs": [],
   "source": [
    "def load_params(filename):\n",
    "    file = open(filename, \"r\")\n",
    "    data = str.strip(file.read())\n",
    "    params = data.split(\",\")\n",
    "    return params"
   ]
  },
  {
   "cell_type": "code",
   "execution_count": 3,
   "id": "3866168d",
   "metadata": {},
   "outputs": [],
   "source": [
    "def load_np(filename):\n",
    "    a = np.load(filename)\n",
    "    return a"
   ]
  },
  {
   "cell_type": "code",
   "execution_count": 4,
   "id": "dd4e2b54",
   "metadata": {},
   "outputs": [],
   "source": [
    "pd.options.display.max_columns = None"
   ]
  },
  {
   "cell_type": "code",
   "execution_count": 5,
   "id": "32cbb0d9",
   "metadata": {},
   "outputs": [],
   "source": [
    "dir_base = './results/cur'\n",
    "all_data = []\n",
    "bad = []\n",
    "for f in os.listdir(dir_base):\n",
    "    if \".\" in f:\n",
    "        continue\n",
    "\n",
    "    chtc_num = int(f.split(\"sults_\")[1].split(\"_0\")[0])\n",
    "    \n",
    "    params = load_params(dir_base + \"/\" + f + \"/params.txt\")\n",
    "    # fix issue where optimizer is labeled as adam but was actually sgd\n",
    "    if chtc_num <= 10203974:\n",
    "        params[7] = 'sgd'\n",
    "    \n",
    "    if (chtc_num <= 10177641) and params[17] == 'softplus':\n",
    "        params[18] = 0 # early tests were w/o fixed seed\n",
    "    elif (chtc_num > 10177641) and (chtc_num < 10203191) and (params[17] == 'softplus'):\n",
    "        params[18] = 1 # fixed seed\n",
    "    elif (chtc_num <= 10204142) and (chtc_num >= 10204070) and (params[17] == 'softplus'):\n",
    "        params[18] = 0\n",
    "    elif (chtc_num >= 10203979) and (chtc_num <= 10203992) and (params[17] == 'softplus'):\n",
    "        params[18] = 1\n",
    "    count = 0\n",
    "    for g in os.listdir(dir_base + \"/\" + f):\n",
    "        count += 1\n",
    "        if 'preds' in g:\n",
    "            dataset = g.split(\"_preds\")[0]\n",
    "    if count == 1:\n",
    "        bad.append(f)\n",
    "        continue\n",
    "\n",
    "    params.append(chtc_num)\n",
    "    accuracy_file_name = dataset.split(\"_t\")[0]\n",
    "    if 'adv' in accuracy_file_name:\n",
    "        accuracy_file_name = accuracy_file_name.split(\"_adv\")[0] + accuracy_file_name.split(\"adv\")[1]\n",
    "    accuracy = load_np(dir_base + \"/\" + f + \"/accuracy_\" + accuracy_file_name + \".npy\")\n",
    "    test_acc = accuracy[0]\n",
    "    train_acc = accuracy[1]\n",
    "    params.append(min(test_acc))\n",
    "    params.append(sum(test_acc)/len(test_acc))\n",
    "    params.append(max(test_acc))\n",
    "    params.append(np.std(test_acc))\n",
    "    params.append(min(train_acc))\n",
    "    params.append(sum(train_acc)/len(train_acc))\n",
    "    params.append(max(train_acc))\n",
    "    params.append(np.std(train_acc))\n",
    "\n",
    "    # do this almost all the time, except for adv-only tests\n",
    "    top1 = load_np(dir_base + \"/\" + f + \"/\" + dataset + \"_top1const.npy\")\n",
    "    top2 = load_np(dir_base + \"/\" + f + \"/\" + dataset + \"_top2const.npy\")\n",
    "    top3 = load_np(dir_base + \"/\" + f + \"/\" + dataset + \"_top3const.npy\")\n",
    "    top4 = load_np(dir_base + \"/\" + f + \"/\" + dataset + \"_top4const.npy\")\n",
    "    top5 = load_np(dir_base + \"/\" + f + \"/\" + dataset + \"_top5const.npy\")\n",
    "    gradnorm = load_np(dir_base + \"/\" + f+ \"/\" + dataset + \"_gradnorm.npy\")\n",
    "    for j in [top1, top2, top3, top4, top5, gradnorm]:\n",
    "        # params.append(sum(j)/len(j)) # \n",
    "        params.append(np.percentile(np.array(j), 50))\n",
    "        params.append(np.percentile(np.array(j), 25))\n",
    "        params.append(np.percentile(np.array(j), 75))\n",
    "    all_data.append(params)\n",
    "    "
   ]
  },
  {
   "cell_type": "code",
   "execution_count": 6,
   "id": "11291909",
   "metadata": {},
   "outputs": [],
   "source": [
    "cols = ['dataset', 'learning_rate', 'epochs', 'batch_size', 'activation', 'nodes_per_layer', 'num_layers',\n",
    "       'optimizer', 'target_indices', 'target_vals', 'mod_indices', 'new_vals', 'threshold', 'strategy',\n",
    "       'loss', 'epsilon', 'lrdecay', \"method\", 'fixed_seed', 'chtc_num', 'min_acc_test', 'avg_acc_test', 'max_acc_test',\n",
    "       'stdev_acc_test', 'min_acc_train', 'avg_acc_train', 'max_acc_train', 'stdev_acc_train', 'top1', \n",
    "       'top1_25', 'top1_75', 'top2', 'top2_25', 'top2_75', 'top3', 'top3_25', 'top3_75', 'top4', 'top4_25', \n",
    "       'top4_75', 'top5', 'top5_25', 'top5_75', 'gradnorm', 'gradnorm_25', 'gradnorm_75']\n",
    "data = pd.DataFrame(all_data, columns=cols)"
   ]
  },
  {
   "cell_type": "code",
   "execution_count": 11,
   "id": "83a7daf6",
   "metadata": {},
   "outputs": [],
   "source": [
    "data[data.min_acc_train >=0.75].to_csv(\"accurate_data_1018.csv\", index=False)"
   ]
  },
  {
   "cell_type": "code",
   "execution_count": 12,
   "id": "41ec84f6",
   "metadata": {},
   "outputs": [],
   "source": [
    "data[data.min_acc_train < 0.75].to_csv(\"inacc_data_1018.csv\", index=False)"
   ]
  },
  {
   "cell_type": "code",
   "execution_count": 10,
   "id": "9e6008b4",
   "metadata": {},
   "outputs": [],
   "source": [
    "data.to_csv(\"all_results_1018.csv\", index=False)"
   ]
  },
  {
   "cell_type": "code",
   "execution_count": null,
   "id": "8694a760",
   "metadata": {},
   "outputs": [],
   "source": []
  }
 ],
 "metadata": {
  "kernelspec": {
   "display_name": "Python 3.8.10 ('base')",
   "language": "python",
   "name": "python3"
  },
  "language_info": {
   "codemirror_mode": {
    "name": "ipython",
    "version": 3
   },
   "file_extension": ".py",
   "mimetype": "text/x-python",
   "name": "python",
   "nbconvert_exporter": "python",
   "pygments_lexer": "ipython3",
   "version": "3.8.10"
  },
  "vscode": {
   "interpreter": {
    "hash": "e7cb1b9ae4d417fedf7f40a8eec98f7cfbd359e096bd857395a915f4609834ce"
   }
  }
 },
 "nbformat": 4,
 "nbformat_minor": 5
}
