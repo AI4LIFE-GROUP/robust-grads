{
 "cells": [
  {
   "cell_type": "code",
   "execution_count": 46,
   "metadata": {},
   "outputs": [],
   "source": [
    "import pandas as pd\n",
    "import numpy as np\n",
    "from sklearn.model_selection import train_test_split"
   ]
  },
  {
   "cell_type": "markdown",
   "metadata": {},
   "source": [
    "Download data from https://www.kaggle.com/datasets/aljarah/xAPI-Edu-Data?resource=download\n",
    "\n",
    "In line with https://arxiv.org/pdf/2012.11788.pdf we limit to students born in Kuwait and Jordan (the two largest places of birth) to see how demographic shift changes the model we learn."
   ]
  },
  {
   "cell_type": "code",
   "execution_count": 98,
   "metadata": {},
   "outputs": [],
   "source": [
    "DATA_DIR = '../../' # where is raw data stored?\n",
    "OUTPUT_DIR = '../../../data/' # where to save processed train/test files?"
   ]
  },
  {
   "cell_type": "code",
   "execution_count": 99,
   "metadata": {},
   "outputs": [],
   "source": [
    "data = pd.read_csv(DATA_DIR + \"xAPI-Edu-Data.csv\")"
   ]
  },
  {
   "cell_type": "code",
   "execution_count": 100,
   "metadata": {},
   "outputs": [],
   "source": [
    "gender = {'M': 0, 'F': 1}\n",
    "PlaceofBirth = {'KuwaIT': 0, 'lebanon': 2, 'Egypt': 2, 'SaudiArabia': 2, 'USA': 2, 'Jordan': 1,\n",
    "       'venzuela': 2, 'Iran': 2, 'Tunis': 2, 'Morocco': 2, 'Syria': 2, 'Iraq': 2,\n",
    "       'Palestine':2 , 'Lybia':2}\n",
    "NationalITy = {'KW': 0, 'lebanon':2, 'Egypt':2, 'SaudiArabia':2, 'USA':2, 'Jordan':1,\n",
    "       'venzuela':2, 'Iran':2, 'Tunis':2, 'Morocco':2, 'Syria':2, 'Palestine':2,\n",
    "       'Iraq':2, 'Lybia':2}\n",
    "StageID = {'lowerlevel':0, 'MiddleSchool':1, 'HighSchool':2}\n",
    "GradeID = {'G-04':4, 'G-07':7, 'G-08':8, 'G-06':6, 'G-05':5, 'G-09':9, 'G-12':12, 'G-11':11,\n",
    "       'G-10':10, 'G-02':2}\n",
    "SectionID = {'A':0, 'B':1, 'C':2}\n",
    "Topic = {'IT':0, 'Math':1, 'Arabic':2, 'Science':3, 'English':4, 'Quran':5, 'Spanish':6,\n",
    "       'French':7, 'History':8, 'Biology':9, 'Chemistry':10, 'Geology':11}\n",
    "Semester = {'F':0, 'S':1}\n",
    "Relation = {'Father' : 0, 'Mum': 1}\n",
    "ParentAnsweringSurvey = {'Yes':0, 'No':1}\n",
    "ParentschoolSatisfaction = {'Good':0, 'Bad':1}\n",
    "StudentAbsenceDays = {'Under-7':0, 'Above-7':1}\n",
    "label = {'L':0, 'M':1, 'H':2}"
   ]
  },
  {
   "cell_type": "code",
   "execution_count": 101,
   "metadata": {},
   "outputs": [],
   "source": [
    "data.rename(columns={'Class' : 'label'}, inplace=True)"
   ]
  },
  {
   "cell_type": "code",
   "execution_count": 102,
   "metadata": {},
   "outputs": [],
   "source": [
    "for feature in ['gender', 'NationalITy', 'PlaceofBirth', 'StageID', 'GradeID','SectionID', 'Topic', 'Semester','Relation', \n",
    "                'ParentAnsweringSurvey', 'ParentschoolSatisfaction', 'StudentAbsenceDays', 'label']:\n",
    "    data[feature] = data[feature].map(eval(feature))"
   ]
  },
  {
   "cell_type": "code",
   "execution_count": 103,
   "metadata": {},
   "outputs": [],
   "source": [
    "data.rename(columns={'NationalITy': 'Nationality', 'VisITedResources': 'VisitedResources'}, inplace=True)"
   ]
  },
  {
   "cell_type": "code",
   "execution_count": 104,
   "metadata": {},
   "outputs": [],
   "source": [
    "# drop data with nationality=2 \n",
    "data = data[data.Nationality != 2]"
   ]
  },
  {
   "cell_type": "code",
   "execution_count": 105,
   "metadata": {},
   "outputs": [],
   "source": [
    "# one-hot encode PlaceOfBirth, StageID, SectionID, Topic, label\n",
    "data = pd.get_dummies(data, columns=['PlaceofBirth', 'StageID', 'SectionID', 'Topic'])"
   ]
  },
  {
   "cell_type": "code",
   "execution_count": 106,
   "metadata": {},
   "outputs": [
    {
     "data": {
      "text/html": [
       "<div>\n",
       "<style scoped>\n",
       "    .dataframe tbody tr th:only-of-type {\n",
       "        vertical-align: middle;\n",
       "    }\n",
       "\n",
       "    .dataframe tbody tr th {\n",
       "        vertical-align: top;\n",
       "    }\n",
       "\n",
       "    .dataframe thead th {\n",
       "        text-align: right;\n",
       "    }\n",
       "</style>\n",
       "<table border=\"1\" class=\"dataframe\">\n",
       "  <thead>\n",
       "    <tr style=\"text-align: right;\">\n",
       "      <th></th>\n",
       "      <th>gender</th>\n",
       "      <th>Nationality</th>\n",
       "      <th>GradeID</th>\n",
       "      <th>Semester</th>\n",
       "      <th>Relation</th>\n",
       "      <th>raisedhands</th>\n",
       "      <th>VisitedResources</th>\n",
       "      <th>AnnouncementsView</th>\n",
       "      <th>Discussion</th>\n",
       "      <th>ParentAnsweringSurvey</th>\n",
       "      <th>...</th>\n",
       "      <th>Topic_2</th>\n",
       "      <th>Topic_3</th>\n",
       "      <th>Topic_4</th>\n",
       "      <th>Topic_5</th>\n",
       "      <th>Topic_6</th>\n",
       "      <th>Topic_7</th>\n",
       "      <th>Topic_8</th>\n",
       "      <th>Topic_9</th>\n",
       "      <th>Topic_10</th>\n",
       "      <th>Topic_11</th>\n",
       "    </tr>\n",
       "  </thead>\n",
       "  <tbody>\n",
       "    <tr>\n",
       "      <th>0</th>\n",
       "      <td>0</td>\n",
       "      <td>0</td>\n",
       "      <td>4</td>\n",
       "      <td>0</td>\n",
       "      <td>0</td>\n",
       "      <td>15</td>\n",
       "      <td>16</td>\n",
       "      <td>2</td>\n",
       "      <td>20</td>\n",
       "      <td>0</td>\n",
       "      <td>...</td>\n",
       "      <td>0</td>\n",
       "      <td>0</td>\n",
       "      <td>0</td>\n",
       "      <td>0</td>\n",
       "      <td>0</td>\n",
       "      <td>0</td>\n",
       "      <td>0</td>\n",
       "      <td>0</td>\n",
       "      <td>0</td>\n",
       "      <td>0</td>\n",
       "    </tr>\n",
       "    <tr>\n",
       "      <th>1</th>\n",
       "      <td>0</td>\n",
       "      <td>0</td>\n",
       "      <td>4</td>\n",
       "      <td>0</td>\n",
       "      <td>0</td>\n",
       "      <td>20</td>\n",
       "      <td>20</td>\n",
       "      <td>3</td>\n",
       "      <td>25</td>\n",
       "      <td>0</td>\n",
       "      <td>...</td>\n",
       "      <td>0</td>\n",
       "      <td>0</td>\n",
       "      <td>0</td>\n",
       "      <td>0</td>\n",
       "      <td>0</td>\n",
       "      <td>0</td>\n",
       "      <td>0</td>\n",
       "      <td>0</td>\n",
       "      <td>0</td>\n",
       "      <td>0</td>\n",
       "    </tr>\n",
       "    <tr>\n",
       "      <th>2</th>\n",
       "      <td>0</td>\n",
       "      <td>0</td>\n",
       "      <td>4</td>\n",
       "      <td>0</td>\n",
       "      <td>0</td>\n",
       "      <td>10</td>\n",
       "      <td>7</td>\n",
       "      <td>0</td>\n",
       "      <td>30</td>\n",
       "      <td>1</td>\n",
       "      <td>...</td>\n",
       "      <td>0</td>\n",
       "      <td>0</td>\n",
       "      <td>0</td>\n",
       "      <td>0</td>\n",
       "      <td>0</td>\n",
       "      <td>0</td>\n",
       "      <td>0</td>\n",
       "      <td>0</td>\n",
       "      <td>0</td>\n",
       "      <td>0</td>\n",
       "    </tr>\n",
       "    <tr>\n",
       "      <th>3</th>\n",
       "      <td>0</td>\n",
       "      <td>0</td>\n",
       "      <td>4</td>\n",
       "      <td>0</td>\n",
       "      <td>0</td>\n",
       "      <td>30</td>\n",
       "      <td>25</td>\n",
       "      <td>5</td>\n",
       "      <td>35</td>\n",
       "      <td>1</td>\n",
       "      <td>...</td>\n",
       "      <td>0</td>\n",
       "      <td>0</td>\n",
       "      <td>0</td>\n",
       "      <td>0</td>\n",
       "      <td>0</td>\n",
       "      <td>0</td>\n",
       "      <td>0</td>\n",
       "      <td>0</td>\n",
       "      <td>0</td>\n",
       "      <td>0</td>\n",
       "    </tr>\n",
       "    <tr>\n",
       "      <th>4</th>\n",
       "      <td>0</td>\n",
       "      <td>0</td>\n",
       "      <td>4</td>\n",
       "      <td>0</td>\n",
       "      <td>0</td>\n",
       "      <td>40</td>\n",
       "      <td>50</td>\n",
       "      <td>12</td>\n",
       "      <td>50</td>\n",
       "      <td>1</td>\n",
       "      <td>...</td>\n",
       "      <td>0</td>\n",
       "      <td>0</td>\n",
       "      <td>0</td>\n",
       "      <td>0</td>\n",
       "      <td>0</td>\n",
       "      <td>0</td>\n",
       "      <td>0</td>\n",
       "      <td>0</td>\n",
       "      <td>0</td>\n",
       "      <td>0</td>\n",
       "    </tr>\n",
       "  </tbody>\n",
       "</table>\n",
       "<p>5 rows × 34 columns</p>\n",
       "</div>"
      ],
      "text/plain": [
       "   gender  Nationality  GradeID  Semester  Relation  raisedhands  \\\n",
       "0       0            0        4         0         0           15   \n",
       "1       0            0        4         0         0           20   \n",
       "2       0            0        4         0         0           10   \n",
       "3       0            0        4         0         0           30   \n",
       "4       0            0        4         0         0           40   \n",
       "\n",
       "   VisitedResources  AnnouncementsView  Discussion  ParentAnsweringSurvey  \\\n",
       "0                16                  2          20                      0   \n",
       "1                20                  3          25                      0   \n",
       "2                 7                  0          30                      1   \n",
       "3                25                  5          35                      1   \n",
       "4                50                 12          50                      1   \n",
       "\n",
       "   ...  Topic_2  Topic_3  Topic_4  Topic_5  Topic_6  Topic_7  Topic_8  \\\n",
       "0  ...        0        0        0        0        0        0        0   \n",
       "1  ...        0        0        0        0        0        0        0   \n",
       "2  ...        0        0        0        0        0        0        0   \n",
       "3  ...        0        0        0        0        0        0        0   \n",
       "4  ...        0        0        0        0        0        0        0   \n",
       "\n",
       "   Topic_9  Topic_10  Topic_11  \n",
       "0        0         0         0  \n",
       "1        0         0         0  \n",
       "2        0         0         0  \n",
       "3        0         0         0  \n",
       "4        0         0         0  \n",
       "\n",
       "[5 rows x 34 columns]"
      ]
     },
     "execution_count": 106,
     "metadata": {},
     "output_type": "execute_result"
    }
   ],
   "source": [
    "data.head()"
   ]
  },
  {
   "cell_type": "code",
   "execution_count": 107,
   "metadata": {},
   "outputs": [],
   "source": [
    "data_kuwait = data[data.Nationality == 0]\n",
    "data_jordan = data[data.Nationality == 1]"
   ]
  },
  {
   "cell_type": "code",
   "execution_count": 108,
   "metadata": {},
   "outputs": [],
   "source": [
    "data_train_kuwait, data_test_kuwait = train_test_split(data_kuwait, test_size=0.2, \n",
    "                                                random_state=1129, stratify=data_kuwait['label'])\n",
    "data_train_jordan, data_test_jordan = train_test_split(data_jordan, test_size=0.2, \n",
    "                                                random_state=1129, stratify=data_jordan['label'])"
   ]
  },
  {
   "cell_type": "code",
   "execution_count": 110,
   "metadata": {},
   "outputs": [
    {
     "name": "stdout",
     "output_type": "stream",
     "text": [
      "0.3776223776223776 0.4195804195804196 0.20279720279720279\n",
      "0.3888888888888889 0.4166666666666667 0.19444444444444445\n",
      "0.21897810218978103 0.4744525547445255 0.30656934306569344\n",
      "0.2 0.4857142857142857 0.3142857142857143\n"
     ]
    }
   ],
   "source": [
    "# sanity check data distribution across labels\n",
    "print(len(data_train_kuwait[data_train_kuwait.label == 0])/len(data_train_kuwait), len(data_train_kuwait[data_train_kuwait.label == 1])/len(data_train_kuwait), len(data_train_kuwait[data_train_kuwait.label == 2])/len(data_train_kuwait))\n",
    "print(len(data_test_kuwait[data_test_kuwait.label == 0])/len(data_test_kuwait), len(data_test_kuwait[data_test_kuwait.label == 1])/len(data_test_kuwait), len(data_test_kuwait[data_test_kuwait.label == 2])/len(data_test_kuwait))\n",
    "print(len(data_train_jordan[data_train_jordan.label == 0])/len(data_train_jordan), len(data_train_jordan[data_train_jordan.label == 1])/len(data_train_jordan), len(data_train_jordan[data_train_jordan.label == 2])/len(data_train_jordan))\n",
    "print(len(data_test_jordan[data_test_jordan.label == 0])/len(data_test_jordan), len(data_test_jordan[data_test_jordan.label == 1])/len(data_test_jordan), len(data_test_jordan[data_test_jordan.label == 2])/len(data_test_jordan))"
   ]
  },
  {
   "cell_type": "code",
   "execution_count": 111,
   "metadata": {},
   "outputs": [],
   "source": [
    "# save to csv\n",
    "data_train_kuwait.to_csv(OUTPUT_DIR + \"data/data_kuwait_train.csv\", index=False)\n",
    "data_test_kuwait.to_csv(OUTPUT_DIR + \"data/data_kuwait_test.csv\", index=False)\n",
    "data_train_jordan.to_csv(OUTPUT_DIR + \"data/data_jordan_train.csv\", index=False)\n",
    "data_test_jordan.to_csv(OUTPUT_DIR + \"data/data_jordan_test.csv\", index=False)"
   ]
  },
  {
   "cell_type": "code",
   "execution_count": null,
   "metadata": {},
   "outputs": [],
   "source": []
  }
 ],
 "metadata": {
  "kernelspec": {
   "display_name": "Python 3.10.6 ('base')",
   "language": "python",
   "name": "python3"
  },
  "language_info": {
   "codemirror_mode": {
    "name": "ipython",
    "version": 3
   },
   "file_extension": ".py",
   "mimetype": "text/x-python",
   "name": "python",
   "nbconvert_exporter": "python",
   "pygments_lexer": "ipython3",
   "version": "3.10.6"
  },
  "orig_nbformat": 4,
  "vscode": {
   "interpreter": {
    "hash": "cb3fba27a62f3fcd76b1604a296d06218a0197a0ba7384c92d91251fb85a1b18"
   }
  }
 },
 "nbformat": 4,
 "nbformat_minor": 2
}
